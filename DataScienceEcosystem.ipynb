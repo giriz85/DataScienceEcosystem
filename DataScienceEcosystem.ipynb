{
 "cells": [
  {
   "cell_type": "markdown",
   "id": "e86d3a0e-20b8-4d83-9832-720b15cd25a0",
   "metadata": {},
   "source": [
    "# Data Science Tools and Ecosystem"
   ]
  },
  {
   "cell_type": "markdown",
   "id": "f0fe4752-a9b5-4784-8ebb-439f7c89605e",
   "metadata": {},
   "source": [
    "Objectives: \n",
    "- Understand data science languages\n",
    "- Common data science libraries\n",
    "- Data science tools\n",
    "- Simple arthemetic expression"
   ]
  },
  {
   "cell_type": "markdown",
   "id": "3f329aba-e791-418b-b028-3ba1d0bf353b",
   "metadata": {},
   "source": [
    "In this notebook, Data Science Tools and Ecosystem are summarized."
   ]
  },
  {
   "cell_type": "markdown",
   "id": "a2e039fe-e3e4-4326-bd7f-71213557c2de",
   "metadata": {},
   "source": [
    "Some of the popular languages that Data Scientists use are:\n",
    "- C\n",
    "- C++\n",
    "- R\n",
    "- Python\n",
    "- SPSS"
   ]
  },
  {
   "cell_type": "markdown",
   "id": "b622209b-919a-4842-8c59-309f6bbfc1a2",
   "metadata": {},
   "source": [
    "Some of the commonly used libraries used by Data Scientists include:\n",
    "- Pandas\n",
    "- Numpy\n",
    "- Scikit-learn\n",
    "- Caret\n",
    "- Tensorflow"
   ]
  },
  {
   "cell_type": "markdown",
   "id": "b8dd72c8-e9f4-4371-904c-01b0ec7e5675",
   "metadata": {},
   "source": [
    "| Data Science Tools               |\n",
    "|----------------------------------|\n",
    "| Jupyter Notebook                 |\n",
    "| RStudio                          |\n",
    "| Apache Zeppelin                  |"
   ]
  },
  {
   "cell_type": "markdown",
   "id": "7770bf6f-3424-4797-aa17-9653a2626701",
   "metadata": {},
   "source": [
    "### Below are a few examples of evaluating arithmetic expressions in Python"
   ]
  },
  {
   "cell_type": "code",
   "execution_count": 2,
   "id": "1788481c-847f-401c-b84f-88a07405ea04",
   "metadata": {
    "tags": []
   },
   "outputs": [
    {
     "data": {
      "text/plain": [
       "17"
      ]
     },
     "execution_count": 2,
     "metadata": {},
     "output_type": "execute_result"
    }
   ],
   "source": [
    "#This a simple arithmetic expression to mutiply then add integers\n",
    "(3*4)+5"
   ]
  },
  {
   "cell_type": "code",
   "execution_count": 3,
   "id": "2a2094d1-3be7-4842-8b19-37b03ce0dc43",
   "metadata": {
    "tags": []
   },
   "outputs": [
    {
     "data": {
      "text/plain": [
       "3.3333333333333335"
      ]
     },
     "execution_count": 3,
     "metadata": {},
     "output_type": "execute_result"
    }
   ],
   "source": [
    "#This will convert 200 minutes to hours by diving by 60\n",
    "200/60"
   ]
  },
  {
   "cell_type": "markdown",
   "id": "00161bea-da2c-4d01-8055-3c2cee0169f3",
   "metadata": {},
   "source": [
    "## Author\n",
    "Girish Gopinathan"
   ]
  }
 ],
 "metadata": {
  "kernelspec": {
   "display_name": "Python",
   "language": "python",
   "name": "conda-env-python-py"
  },
  "language_info": {
   "codemirror_mode": {
    "name": "ipython",
    "version": 3
   },
   "file_extension": ".py",
   "mimetype": "text/x-python",
   "name": "python",
   "nbconvert_exporter": "python",
   "pygments_lexer": "ipython3",
   "version": "3.7.12"
  }
 },
 "nbformat": 4,
 "nbformat_minor": 5
}
